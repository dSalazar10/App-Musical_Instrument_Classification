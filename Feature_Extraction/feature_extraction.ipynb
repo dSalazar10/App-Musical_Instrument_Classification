{
 "cells": [
  {
   "cell_type": "code",
   "execution_count": 19,
   "metadata": {},
   "outputs": [],
   "source": [
    "from aubio import source, pvoc, mfcc\n",
    "from numpy import vstack, zeros, diff\n",
    "import csv, os"
   ]
  },
  {
   "cell_type": "code",
   "execution_count": 47,
   "metadata": {},
   "outputs": [],
   "source": [
    "def MFCC(source_filename, win_s = 512):\n",
    "    n_filters = 40\n",
    "    n_coeffs = 13\n",
    "    samplerate = 0\n",
    "    frames_read = 0\n",
    "    hop_s = win_s // 4\n",
    "    mode = \"hamming\"\n",
    "    s = source(source_filename, samplerate, hop_s)\n",
    "    samplerate = s.samplerate\n",
    "    p = pvoc(win_s, hop_s)\n",
    "    m = mfcc(win_s, n_filters, n_coeffs, samplerate)\n",
    "    mfccs = zeros([n_coeffs,])\n",
    "    while True:\n",
    "        samples, read = s()\n",
    "        spec = p(samples)\n",
    "        mfcc_out = m(spec)\n",
    "        mfccs = vstack((mfccs, mfcc_out))\n",
    "        frames_read += read\n",
    "        if read < hop_s: break\n",
    "    return mfcc_out"
   ]
  },
  {
   "cell_type": "code",
   "execution_count": 48,
   "metadata": {},
   "outputs": [],
   "source": [
    "def GetMFCC(rootdir, csv_filename):\n",
    "    with open(csv_filename, mode='w') as csv_file:\n",
    "        csv_writer = csv.writer(csv_file, delimiter=',', quotechar='\"', quoting=csv.QUOTE_MINIMAL)\n",
    "        # traverse each directory\n",
    "        for subdir, dirpath, files in os.walk(rootdir):\n",
    "            # traverse each file in directory\n",
    "            for file in files:\n",
    "                filepath = subdir + os.sep + file\n",
    "                if filepath.endswith(\".wav\"):\n",
    "                    mfcc = MFCC(file);\n",
    "                    csv_writer.writerow(mfcc)"
   ]
  },
  {
   "cell_type": "code",
   "execution_count": 53,
   "metadata": {},
   "outputs": [
    {
     "ename": "RuntimeError",
     "evalue": "AUBIO ERROR: source_wavread: Failed opening cello_Fs4_1_mezzo-piano_arco-normal.wav (No such file or directory)",
     "output_type": "error",
     "traceback": [
      "\u001b[0;31m---------------------------------------------------------------------------\u001b[0m",
      "\u001b[0;31mRuntimeError\u001b[0m                              Traceback (most recent call last)",
      "\u001b[0;32m<ipython-input-53-3d790daf4975>\u001b[0m in \u001b[0;36m<module>\u001b[0;34m\u001b[0m\n\u001b[0;32m----> 1\u001b[0;31m \u001b[0mGetMFCC\u001b[0m\u001b[0;34m(\u001b[0m\u001b[0;34m\"wav\"\u001b[0m\u001b[0;34m,\u001b[0m \u001b[0;34m\"t.csv\"\u001b[0m\u001b[0;34m)\u001b[0m\u001b[0;34m\u001b[0m\u001b[0;34m\u001b[0m\u001b[0m\n\u001b[0m",
      "\u001b[0;32m<ipython-input-48-614fb9fc4979>\u001b[0m in \u001b[0;36mGetMFCC\u001b[0;34m(rootdir, csv_filename)\u001b[0m\n\u001b[1;32m      8\u001b[0m                 \u001b[0mfilepath\u001b[0m \u001b[0;34m=\u001b[0m \u001b[0msubdir\u001b[0m \u001b[0;34m+\u001b[0m \u001b[0mos\u001b[0m\u001b[0;34m.\u001b[0m\u001b[0msep\u001b[0m \u001b[0;34m+\u001b[0m \u001b[0mfile\u001b[0m\u001b[0;34m\u001b[0m\u001b[0;34m\u001b[0m\u001b[0m\n\u001b[1;32m      9\u001b[0m                 \u001b[0;32mif\u001b[0m \u001b[0mfilepath\u001b[0m\u001b[0;34m.\u001b[0m\u001b[0mendswith\u001b[0m\u001b[0;34m(\u001b[0m\u001b[0;34m\".wav\"\u001b[0m\u001b[0;34m)\u001b[0m\u001b[0;34m:\u001b[0m\u001b[0;34m\u001b[0m\u001b[0;34m\u001b[0m\u001b[0m\n\u001b[0;32m---> 10\u001b[0;31m                     \u001b[0mmfcc\u001b[0m \u001b[0;34m=\u001b[0m \u001b[0mMFCC\u001b[0m\u001b[0;34m(\u001b[0m\u001b[0mfile\u001b[0m\u001b[0;34m)\u001b[0m\u001b[0;34m;\u001b[0m\u001b[0;34m\u001b[0m\u001b[0;34m\u001b[0m\u001b[0m\n\u001b[0m\u001b[1;32m     11\u001b[0m                     \u001b[0mcsv_writer\u001b[0m\u001b[0;34m.\u001b[0m\u001b[0mwriterow\u001b[0m\u001b[0;34m(\u001b[0m\u001b[0mmfcc\u001b[0m\u001b[0;34m)\u001b[0m\u001b[0;34m\u001b[0m\u001b[0;34m\u001b[0m\u001b[0m\n",
      "\u001b[0;32m<ipython-input-47-c328cd0710f1>\u001b[0m in \u001b[0;36mMFCC\u001b[0;34m(source_filename, win_s)\u001b[0m\n\u001b[1;32m      6\u001b[0m     \u001b[0mhop_s\u001b[0m \u001b[0;34m=\u001b[0m \u001b[0mwin_s\u001b[0m \u001b[0;34m//\u001b[0m \u001b[0;36m4\u001b[0m\u001b[0;34m\u001b[0m\u001b[0;34m\u001b[0m\u001b[0m\n\u001b[1;32m      7\u001b[0m     \u001b[0mmode\u001b[0m \u001b[0;34m=\u001b[0m \u001b[0;34m\"hamming\"\u001b[0m\u001b[0;34m\u001b[0m\u001b[0;34m\u001b[0m\u001b[0m\n\u001b[0;32m----> 8\u001b[0;31m     \u001b[0ms\u001b[0m \u001b[0;34m=\u001b[0m \u001b[0msource\u001b[0m\u001b[0;34m(\u001b[0m\u001b[0msource_filename\u001b[0m\u001b[0;34m,\u001b[0m \u001b[0msamplerate\u001b[0m\u001b[0;34m,\u001b[0m \u001b[0mhop_s\u001b[0m\u001b[0;34m)\u001b[0m\u001b[0;34m\u001b[0m\u001b[0;34m\u001b[0m\u001b[0m\n\u001b[0m\u001b[1;32m      9\u001b[0m     \u001b[0msamplerate\u001b[0m \u001b[0;34m=\u001b[0m \u001b[0ms\u001b[0m\u001b[0;34m.\u001b[0m\u001b[0msamplerate\u001b[0m\u001b[0;34m\u001b[0m\u001b[0;34m\u001b[0m\u001b[0m\n\u001b[1;32m     10\u001b[0m     \u001b[0mp\u001b[0m \u001b[0;34m=\u001b[0m \u001b[0mpvoc\u001b[0m\u001b[0;34m(\u001b[0m\u001b[0mwin_s\u001b[0m\u001b[0;34m,\u001b[0m \u001b[0mhop_s\u001b[0m\u001b[0;34m)\u001b[0m\u001b[0;34m\u001b[0m\u001b[0;34m\u001b[0m\u001b[0m\n",
      "\u001b[0;31mRuntimeError\u001b[0m: AUBIO ERROR: source_wavread: Failed opening cello_Fs4_1_mezzo-piano_arco-normal.wav (No such file or directory)"
     ]
    }
   ],
   "source": [
    "GetMFCC(\"wav\", \"t.csv\")"
   ]
  },
  {
   "cell_type": "code",
   "execution_count": null,
   "metadata": {},
   "outputs": [],
   "source": []
  }
 ],
 "metadata": {
  "kernelspec": {
   "display_name": "Python 3",
   "language": "python",
   "name": "python3"
  },
  "language_info": {
   "codemirror_mode": {
    "name": "ipython",
    "version": 3
   },
   "file_extension": ".py",
   "mimetype": "text/x-python",
   "name": "python",
   "nbconvert_exporter": "python",
   "pygments_lexer": "ipython3",
   "version": "3.7.1"
  }
 },
 "nbformat": 4,
 "nbformat_minor": 2
}
